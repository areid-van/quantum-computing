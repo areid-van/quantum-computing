{
 "cells": [
  {
   "cell_type": "code",
   "execution_count": 16,
   "metadata": {},
   "outputs": [
    {
     "name": "stdout",
     "output_type": "stream",
     "text": [
      "   p1   q1   r1    E\n",
      "    0    0    0    1\n",
      "    1    0    0    0\n",
      "    0    1    0    0\n",
      "    1    1    0    1\n",
      "    0    0    1    0\n",
      "    1    0    1    1\n",
      "    0    1    1    1\n",
      "    1    1    1   10\n"
     ]
    }
   ],
   "source": [
    "def Hb(p1, q1, r1):\n",
    "    return 1 + 2*p1*q1 + 6*p1*q1*r1 + 2*p1*r1 + 2*q1*r1 - p1 - q1 - r1\n",
    "\n",
    "row_format =\"{:>5}\" * 4\n",
    "print(row_format.format('p1', 'q1', 'r1', 'E'))\n",
    "for i in range(8):\n",
    "    x = [(i >> j) & 1 for j in range(3)]\n",
    "    E = Hb(x[0], x[1], x[2])\n",
    "    print(row_format.format(*x,E))\n",
    "    \n",
    "    "
   ]
  },
  {
   "cell_type": "code",
   "execution_count": 18,
   "metadata": {},
   "outputs": [
    {
     "name": "stdout",
     "output_type": "stream",
     "text": [
      "   p1   q1   r1   s1    E\n",
      "    0    0    0    0    1\n",
      "    1    0    0    0    0\n",
      "    0    1    0    0    0\n",
      "    1    1    0    0    7\n",
      "    0    0    1    0    0\n",
      "    1    0    1    0    7\n",
      "    0    1    1    0    7\n",
      "    1    1    1    0   22\n",
      "    0    0    0    1    7\n",
      "    1    0    0    1    0\n",
      "    0    1    0    1    0\n",
      "    1    1    0    1    1\n",
      "    0    0    1    1    0\n",
      "    1    0    1    1    1\n",
      "    0    1    1    1    1\n",
      "    1    1    1    1   10\n"
     ]
    }
   ],
   "source": [
    "def Hqb(p1, q1, r1, s1):\n",
    "    return -6*p1*s1 - 6*q1*s1 - 6*r1*s1 + 8*p1*q1 + 8*p1*r1 + 8*q1*r1 + 6*s1 - p1 - q1 - r1 + 1\n",
    "\n",
    "row_format =\"{:>5}\" * 5\n",
    "print(row_format.format('p1', 'q1', 'r1', 's1', 'E'))\n",
    "for i in range(16):\n",
    "    x = [(i >> j) & 1 for j in range(4)]\n",
    "    E = Hqb(x[0], x[1], x[2], x[3])\n",
    "    print(row_format.format(*x,E))"
   ]
  },
  {
   "cell_type": "code",
   "execution_count": 21,
   "metadata": {},
   "outputs": [
    {
     "name": "stdout",
     "output_type": "stream",
     "text": [
      "    s1    s2    s3    s4     E\n",
      "     1     1     1     1  11.0\n",
      "    -1     1     1     1  12.0\n",
      "     1    -1     1     1  12.0\n",
      "    -1    -1     1     1  21.0\n",
      "     1     1    -1     1  12.0\n",
      "    -1     1    -1     1  21.0\n",
      "     1    -1    -1     1  21.0\n",
      "    -1    -1    -1     1  38.0\n",
      "     1     1     1    -1   5.0\n",
      "    -1     1     1    -1   0.0\n",
      "     1    -1     1    -1   0.0\n",
      "    -1    -1     1    -1   3.0\n",
      "     1     1    -1    -1   0.0\n",
      "    -1     1    -1    -1   3.0\n",
      "     1    -1    -1    -1   3.0\n",
      "    -1    -1    -1    -1  14.0\n"
     ]
    }
   ],
   "source": [
    "def Hs(s1, s2, s3, s4):\n",
    "     return -1.5*s1*s4 - 1.5*s2*s4 - 1.5*s3*s4 + 2*s1*s2 + 2*s1*s3 + 2*s2*s3 - 3*s1 - 3*s2 - 3*s3 + 7.5*s4 + 11\n",
    "    \n",
    "row_format =\"{:>6}\" * 5\n",
    "print(row_format.format('s1', 's2', 's3', 's4', 'E'))\n",
    "for i in range(16):\n",
    "    x = [1 - 2*((i >> j) & 1) for j in range(4)]\n",
    "    E = Hs(x[0], x[1], x[2], x[3])\n",
    "    print(row_format.format(*x,E))"
   ]
  },
  {
   "cell_type": "code",
   "execution_count": 22,
   "metadata": {},
   "outputs": [],
   "source": [
    "import dimod\n",
    "import minorminer\n",
    "from dwave.system.samplers import DWaveSampler \n",
    "\n",
    "my_solver = 'DW_2000Q_2'\n",
    "my_token = 'DEV-6a2db0d6dd7d118b1bb0c458d9732dfe2f495cbd'"
   ]
  },
  {
   "cell_type": "code",
   "execution_count": 23,
   "metadata": {},
   "outputs": [],
   "source": [
    "h = {1: -3, 2: -3, 3: -3, 4: 7.5}\n",
    "J = {(1, 4): -1.5, (2, 4): -1.5, (3,4): -1.5, (1,2): 2, (1,3): 2, (2,3): 2}\n",
    "bqm = dimod.BinaryQuadraticModel.from_ising(h, J, 11)"
   ]
  },
  {
   "cell_type": "code",
   "execution_count": 25,
   "metadata": {},
   "outputs": [
    {
     "name": "stdout",
     "output_type": "stream",
     "text": [
      "    s1    s2    s3    s4     E\n",
      "     1     1    -1    -1   0.0\n",
      "    -1     1     1    -1   0.0\n",
      "     1    -1     1    -1   0.0\n",
      "     1    -1    -1    -1   3.0\n",
      "    -1     1    -1    -1   3.0\n",
      "    -1    -1     1    -1   3.0\n",
      "     1     1     1    -1   5.0\n",
      "     1     1     1     1  11.0\n",
      "     1    -1     1     1  12.0\n",
      "    -1     1     1     1  12.0\n",
      "     1     1    -1     1  12.0\n",
      "    -1    -1    -1    -1  14.0\n",
      "    -1    -1     1     1  21.0\n",
      "    -1     1    -1     1  21.0\n",
      "     1    -1    -1     1  21.0\n",
      "    -1    -1    -1     1  38.0\n"
     ]
    }
   ],
   "source": [
    "response = dimod.ExactSolver().sample(bqm)\n",
    "\n",
    "row_format =\"{:>6}\" * 5\n",
    "print(row_format.format('s1', 's2', 's3', 's4', 'E'))\n",
    "for sample in response.data(fields=['sample', 'energy']):\n",
    "    s = sample[0]\n",
    "    print(row_format.format(s[1], s[2], s[3], s[4], sample[1]))"
   ]
  },
  {
   "cell_type": "code",
   "execution_count": 26,
   "metadata": {},
   "outputs": [
    {
     "name": "stdout",
     "output_type": "stream",
     "text": [
      "4 logical qubits\n",
      "6 physical qubits\n"
     ]
    }
   ],
   "source": [
    "sampler = DWaveSampler(solver=my_solver, token=my_token)\n",
    "_, target_edgelist, target_adjacency = sampler.structure\n",
    "\n",
    "embedding = minorminer.find_embedding(bqm.quadratic, target_edgelist)\n",
    "if bqm and not embedding:\n",
    "    raise ValueError(\"no embedding found\")\n",
    "\n",
    "bqm_embedded = dimod.embed_bqm(bqm, embedding, target_adjacency, 3.0)\n",
    "\n",
    "print(len(list(embedding.keys())), \"logical qubits\")\n",
    "phys = list()\n",
    "for _, v in embedding.items():\n",
    "    phys += v\n",
    "print(len(phys), \"physical qubits\")"
   ]
  },
  {
   "cell_type": "code",
   "execution_count": 30,
   "metadata": {},
   "outputs": [
    {
     "name": "stdout",
     "output_type": "stream",
     "text": [
      "    s1    s2    s3    s4     E     N\n",
      "     1    -1     1    -1   0.0   155\n",
      "    -1     1     1    -1   0.0   219\n",
      "     1     1    -1    -1   0.0   125\n",
      "    -1     1     1    -1   0.0     1\n"
     ]
    }
   ],
   "source": [
    "response = sampler.sample(bqm_embedded, num_reads=500, answer_mode='histogram')\n",
    "response = dimod.unembed_response(response, embedding, source_bqm=bqm)\n",
    "    \n",
    "row_format =\"{:>6}\" * 6\n",
    "print(row_format.format('s1', 's2', 's3', 's4', 'E', 'N'))\n",
    "for sample in response.data(fields=['sample', 'energy', 'num_occurrences']):\n",
    "    s = sample[0]\n",
    "    print(row_format.format(s[1], s[2], s[3], s[4], sample[1], sample[2]))"
   ]
  },
  {
   "cell_type": "code",
   "execution_count": 31,
   "metadata": {},
   "outputs": [
    {
     "data": {
      "text/plain": [
       "{1: [360], 2: [366], 3: [364, 363], 4: [365, 362]}"
      ]
     },
     "execution_count": 31,
     "metadata": {},
     "output_type": "execute_result"
    }
   ],
   "source": [
    "embedding"
   ]
  },
  {
   "cell_type": "code",
   "execution_count": null,
   "metadata": {},
   "outputs": [],
   "source": []
  }
 ],
 "metadata": {
  "kernelspec": {
   "display_name": "Python 3",
   "language": "python",
   "name": "python3"
  },
  "language_info": {
   "codemirror_mode": {
    "name": "ipython",
    "version": 3
   },
   "file_extension": ".py",
   "mimetype": "text/x-python",
   "name": "python",
   "nbconvert_exporter": "python",
   "pygments_lexer": "ipython3",
   "version": "3.6.3"
  }
 },
 "nbformat": 4,
 "nbformat_minor": 2
}
