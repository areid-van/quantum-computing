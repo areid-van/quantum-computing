{
 "cells": [
  {
   "cell_type": "code",
   "execution_count": 26,
   "metadata": {},
   "outputs": [
    {
     "name": "stdout",
     "output_type": "stream",
     "text": [
      "0000 0\n",
      "1000 -52\n",
      "0100 -52\n",
      "1100 -32\n",
      "0010 -96\n",
      "1010 -68\n",
      "0110 -4\n",
      "1110 96\n",
      "0001 128\n",
      "1001 -52\n",
      "0101 -52\n",
      "1101 -160\n",
      "0011 -96\n",
      "1011 -196\n",
      "0111 -132\n",
      "1111 -160\n"
     ]
    }
   ],
   "source": [
    "for x=0:15\n",
    "    x0 = convert(Int, x&1 > 0)\n",
    "    x1 = convert(Int, x&2 > 0)\n",
    "    x2 = convert(Int, x&4 > 0)\n",
    "    x3 = convert(Int, x&8 > 0)\n",
    "    #f = 128*x1*x2*x3 - 56*x1*x2 - 48*x1*x3 + 16*x2*x3 - 52*x1 - 52*x2 - 96*x3 + 196\n",
    "    f = -128*x0*x3 - 128*x1*x3 - 128*x2*x3 + 72*x0*x1 + 80*x0*x2 + 144*x1*x2 + 128*x3 - 52*x0 - 52*x1 - 96*x2\n",
    "    print(x0, x1, x2, x3, \" \",f,\"\\n\") \n",
    "end"
   ]
  },
  {
   "cell_type": "code",
   "execution_count": 22,
   "metadata": {
    "scrolled": true
   },
   "outputs": [
    {
     "name": "stdout",
     "output_type": "stream",
     "text": [
      "[0.0 0.0 0.0 0.0 0.0 0.0 0.0 0.0 0.0 0.0 1.0 0.0 0.0 0.0 0.0 0.0]\n",
      "[0.0 -0.0 -0.0 0.0 -0.0 0.0 0.0 -0.0 -0.0 0.0 1.0 -0.0 0.0 -0.0 -0.0 0.0]\n",
      "true"
     ]
    }
   ],
   "source": [
    "sz = [1 0;0 -1]\n",
    "I = [1 0;0 1]\n",
    "\n",
    "ud = [0.; -1.]\n",
    "uu = [-1.; 0.]\n",
    "\n",
    "s1 = kron(sz, kron(I, kron(I, I)))\n",
    "s2 = kron(I, kron(sz, kron(I, I)))\n",
    "s3 = kron(I, kron(I, kron(sz, I)))\n",
    "s4 = kron(I, kron(I, kron(I, sz)))\n",
    "\n",
    "H = 58*s1 + 50*s2 + 12*s3 - 80*s4 + 25*s1*s2 - 6*s1*s3 - 64*s1*s4 + 2*s2*s3 - 64*s2*s4 + 16*s3*s4\n",
    "\n",
    "psi = eig(H)[2][:,1]'\n",
    "\n",
    "#ud == 1, uu == 0\n",
    "psi_th = kron(ud, kron(uu, kron(ud, uu)))'\n",
    "print(psi, \"\\n\")\n",
    "print(psi_th, \"\\n\")\n",
    "print(psi == psi_th)\n"
   ]
  },
  {
   "cell_type": "code",
   "execution_count": 17,
   "metadata": {},
   "outputs": [
    {
     "data": {
      "text/plain": [
       "([-1.0, 1.0], [0.0 -1.0; -1.0 -0.0])"
      ]
     },
     "execution_count": 17,
     "metadata": {},
     "output_type": "execute_result"
    }
   ],
   "source": [
    "eig([1 0;0 -1])"
   ]
  },
  {
   "cell_type": "code",
   "execution_count": null,
   "metadata": {},
   "outputs": [],
   "source": [
    "class Term(Object):\n",
    "    def __init__(self, vars=0, coeff=1):\n",
    "        self.vars = vars\n",
    "        self.coeff = coeff\n",
    "\n",
    "    def __mult__(self, other):\n",
    "        return Term(self.vars|other.vars, self.coeff*other.coeff)\n",
    "\n",
    "    def __str__(self):\n",
    "        s = str(self.coeff)\n",
    "        v = self.vars\n",
    "        i = 1\n",
    "        while v > 0:\n",
    "            if v&1: s += 'x%d' % i\n",
    "            i += 1\n",
    "            v\n",
    "        "
   ]
  }
 ],
 "metadata": {
  "kernelspec": {
   "display_name": "Julia 0.6.1",
   "language": "julia",
   "name": "julia-0.6"
  },
  "language_info": {
   "file_extension": ".jl",
   "mimetype": "application/julia",
   "name": "julia",
   "version": "0.6.1"
  }
 },
 "nbformat": 4,
 "nbformat_minor": 2
}
